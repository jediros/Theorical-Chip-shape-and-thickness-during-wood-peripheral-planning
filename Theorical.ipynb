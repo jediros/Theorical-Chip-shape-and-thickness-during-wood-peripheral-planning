{
 "cells": [
  {
   "cell_type": "markdown",
   "metadata": {},
   "source": [
    "# Theorical Chip shape and chip width\n",
    "\n",
    "\n",
    "\n",
    "L\n",
    "\n",
    "Martellotti ME (1941) An analysis of the milling process.Transactions Am Soc Mech Engineers 63:677-700\n",
    "\n",
    "Aqui colocar a formula de martelloti en ingles\n",
    "\n",
    "\n",
    "\n",
    "\n",
    "\n",
    "\n",
    "jediros@gmail.com"
   ]
  },
  {
   "cell_type": "markdown",
   "metadata": {},
   "source": [
    "<img src=\"image.png\">\n",
    "#por el momento"
   ]
  },
  {
   "cell_type": "markdown",
   "metadata": {},
   "source": [
    "![alt text](image.png \"Forces\")"
   ]
  },
  {
   "cell_type": "code",
   "execution_count": 15,
   "metadata": {},
   "outputs": [
    {
     "name": "stdout",
     "output_type": "stream",
     "text": [
      "Profondeur de passe (mm) :1.5\n",
      "Longueur onde usinage (mm) :2.8\n",
      "Rayon outil de coupe (mm) :40\n",
      "Vitesse de rotation (mm) :100\n",
      "Nombre de couteaux :1\n",
      "Epaisseur moyenne du copeau (mm):  0.3834057902536162\n"
     ]
    },
    {
     "data": {
      "image/png": "[encoded data removed]",
      "text/plain": [
       "<Figure size 432x288 with 1 Axes>"
      ]
     },
     "metadata": {
      "needs_background": "light"
     },
     "output_type": "display_data"
    }
   ],
   "source": [
    "import pandas as pd\n",
    "import numpy as np\n",
    "import matplotlib.pyplot as plt\n",
    "\n",
    "\n",
    "%matplotlib inline\n",
    "\n",
    "#Data input\n",
    "############################\n",
    "ap=input('Profondeur de passe (mm) :')\n",
    "ap = float(ap)\n",
    "\n",
    "o=input('Longueur onde usinage (mm) :')\n",
    "o = float(o)\n",
    "\n",
    "r=input('Rayon outil de coupe (mm) :')\n",
    "r = float(r)\n",
    "\n",
    "n=input('Vitesse de rotation (mm) :')\n",
    "n=float(n)\n",
    "\n",
    "z=input('Nombre de couteaux :')\n",
    "z=float(z)\n",
    "\n",
    "#ap=1.5\n",
    "#ap = float(ap)\n",
    "\n",
    "#o=2.8\n",
    "#o = float(o)\n",
    "\n",
    "#r=40\n",
    "#r = float(r)\n",
    "\n",
    "rp = 12.7 #rayon du pignon de maintien du porte outil (ici 1po)\n",
    "\n",
    "############################\n",
    "\n",
    "#Data equations\n",
    "########################################3\n",
    "vf = o * z * n\n",
    "epmoy=(vf / (n*z)) * ((ap / (r*2))** (1/2)) #epaisseur moyenne de copeux\n",
    "\n",
    "\n",
    "\n",
    "#Angle effectué par le couteau pendant l'usinage du copeau \n",
    "ra = np.cos((r-ap)/r) \n",
    "\n",
    "#Balayage du couteau de 0 à ra\n",
    "t = np.arange(0, ra, 0.001)\n",
    "t = -1*t\n",
    "\n",
    "# Chip width equation\n",
    "X=(rp * t)- (r * np.sin(t))\n",
    "Y=r * (1-np.cos(t)) \n",
    "XO = X + o\n",
    "\n",
    "debx = rp * -ra - r * np.sin(-ra)\n",
    "deby = r * (1 - np.cos(-ra))\n",
    "\n",
    "finx = (rp * -ra - r * np.sin(-ra)) + o\n",
    "finy = r * (1 - np.cos(-ra))\n",
    "\n",
    "a = [debx, finx]\n",
    "b = [deby, finy]\n",
    "\n",
    "#Plotting chip formation\n",
    "#############################################\n",
    "plt.plot(X, Y, 'b') #same line width and color\n",
    "plt.plot(XO, Y,  'b') #same line width and color\n",
    "plt.plot(a,b, 'b')  # union of points\n",
    "\n",
    "plt.xlabel('mm') #show label in x position \n",
    "plt.ylabel('mm') #show label in x position\n",
    "plt.title('Theorical chip shape')#show title Forme théorique du copeau\n",
    "#plt.legend() #show leyend\n",
    "#text(11,1.9,{'Epaisseur moyenne du copeau=',epmoy}) #falta!!!\n",
    "#plt.text(10.0, 0.0,\"Epaisseur moyenne du copeau=\")\n",
    "\n",
    "print(\"Epaisseur moyenne du copeau (mm): \",epmoy)\n",
    "\n"
   ]
  },
  {
   "cell_type": "code",
   "execution_count": null,
   "metadata": {},
   "outputs": [],
   "source": []
  }
 ],
 "metadata": {
  "kernelspec": {
   "display_name": "Python 3",
   "language": "python",
   "name": "python3"
  },
  "language_info": {
   "codemirror_mode": {
    "name": "ipython",
    "version": 3
   },
   "file_extension": ".py",
   "mimetype": "text/x-python",
   "name": "python",
   "nbconvert_exporter": "python",
   "pygments_lexer": "ipython3",
   "version": "3.7.2"
  }
 },
 "nbformat": 4,
 "nbformat_minor": 2
}
